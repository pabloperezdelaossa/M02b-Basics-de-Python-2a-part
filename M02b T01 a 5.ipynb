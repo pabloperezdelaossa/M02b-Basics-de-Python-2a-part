{
 "cells": [
  {
   "cell_type": "markdown",
   "id": "302cbeb8",
   "metadata": {},
   "source": [
    "- Exercici 1\n",
    "\n",
    "L'exercici consisteix a crear un programa que et classifiqui una variable numèrica en funció de l’escala Suspès/Aprovat/Notable/Excel·lent.\n",
    "\n",
    "Recorda que Suspès < 5, Aprovat > 5 i < 7, Notable > 7 i < 9 i Excel·lent > 9\n",
    "\n",
    "Nota Pablo faig servir la seguent escala: \n",
    "\n",
    "Suspès < 5\n",
    "\n",
    "Aprovat >= 5 i < 7\n",
    "\n",
    "Notable >= 7 i < 9 i\n",
    "\n",
    "Excel·lent >= 9"
   ]
  },
  {
   "cell_type": "code",
   "execution_count": 1,
   "id": "3b3c6452",
   "metadata": {},
   "outputs": [
    {
     "name": "stdout",
     "output_type": "stream",
     "text": [
      "Estudiant 0 : la puntuació es 6 i la nota es Aprovat\n",
      "Estudiant 1 : la puntuació es 2 i la nota es Suspès\n",
      "Estudiant 2 : la puntuació es 9 i la nota es Excel·lent\n",
      "Estudiant 3 : la puntuació es 10 i la nota es Excel·lent\n",
      "Estudiant 4 : la puntuació es 6 i la nota es Aprovat\n",
      "Estudiant 5 : la puntuació es 10 i la nota es Excel·lent\n",
      "Estudiant 6 : la puntuació es 1 i la nota es Suspès\n",
      "Estudiant 7 : la puntuació es 8 i la nota es Notable\n",
      "Estudiant 8 : la puntuació es 7 i la nota es Notable\n",
      "Estudiant 9 : la puntuació es 0 i la nota es Suspès\n",
      "Estudiant 10 : la puntuació es 4 i la nota es Suspès\n",
      "Estudiant 11 : la puntuació es 3 i la nota es Suspès\n",
      "Estudiant 12 : la puntuació es 10 i la nota es Excel·lent\n",
      "Estudiant 13 : la puntuació es 3 i la nota es Suspès\n",
      "Estudiant 14 : la puntuació es 5 i la nota es Aprovat\n",
      "Estudiant 15 : la puntuació es 5 i la nota es Aprovat\n",
      "Estudiant 16 : la puntuació es 0 i la nota es Suspès\n",
      "Estudiant 17 : la puntuació es 8 i la nota es Notable\n",
      "Estudiant 18 : la puntuació es 6 i la nota es Aprovat\n",
      "Estudiant 19 : la puntuació es 10 i la nota es Excel·lent\n"
     ]
    }
   ],
   "source": [
    "from random import randrange\n",
    "estudiant = 0\n",
    "while estudiant < 20: # Ho faré per 20 estudiants\n",
    "    nota = randrange(0,11) # Posarem la nota de forma aleatoria entre 0 i 10. Ja se que els profesor no ho fan mai:)\n",
    "    if nota >= 9: # Començo per la nota més alta, així es més fàcil\n",
    "        print('Estudiant',estudiant,': la puntuació es', nota, 'i la nota es Excel·lent')\n",
    "    elif nota >= 7:\n",
    "        print('Estudiant',estudiant,': la puntuació es', nota, 'i la nota es Notable')\n",
    "    elif nota >= 5:\n",
    "        print('Estudiant',estudiant,': la puntuació es', nota, 'i la nota es Aprovat')\n",
    "    else:\n",
    "        print ('Estudiant',estudiant,': la puntuació es', nota, 'i la nota es Suspès')\n",
    "    estudiant += 1\n",
    "estudiant = 0"
   ]
  },
  {
   "cell_type": "markdown",
   "id": "685b1af3",
   "metadata": {},
   "source": [
    "- Exercici 2\n",
    "\n",
    "Utilitzant el següent tutorial crea un programa que et pregunti dos números. T’ha de mostrar un missatge dient si el primer és més gran, el segon és més gran o són iguals."
   ]
  },
  {
   "cell_type": "code",
   "execution_count": 2,
   "id": "bdaeaba0",
   "metadata": {},
   "outputs": [
    {
     "name": "stdout",
     "output_type": "stream",
     "text": [
      "Introdueix el primer número: 12\n",
      "Ara introdueix el segon número: 13\n",
      "El segon número es mes gran que el primer\n"
     ]
    }
   ],
   "source": [
    "primer = int(input('Introdueix el primer número: '))\n",
    "segon = int(input('Ara introdueix el segon número: '))\n",
    "if primer > segon:\n",
    "    print ('El primer número es més gran que el segon')\n",
    "elif primer == segon:\n",
    "    print('Els dos números son iguals')\n",
    "else:\n",
    "    print('El segon número es mes gran que el primer')"
   ]
  },
  {
   "cell_type": "markdown",
   "id": "eba44881",
   "metadata": {},
   "source": [
    "- Exercici 3\n",
    "\n",
    "Crea un programa que et pregunti el teu nom, i et demani un número. Si el número és 0, hauria de mostrar un missatge d’error. En cas contrari, hauria de mostrar el nom repetit tants cops com indiqui el número. Per exemple, “Joan Joan Joan”."
   ]
  },
  {
   "cell_type": "code",
   "execution_count": 3,
   "id": "a4e7b8f6",
   "metadata": {},
   "outputs": [
    {
     "name": "stdout",
     "output_type": "stream",
     "text": [
      "Introdueix el teu nom: Pablo\n",
      "Ara introdueix un número mes gran de 0: 3\n",
      "PabloPabloPablo\n"
     ]
    }
   ],
   "source": [
    "nom = str(input('Introdueix el teu nom: '))\n",
    "numero = int(input('Ara introdueix un número mes gran de 0: '))\n",
    "if numero <= 0:\n",
    "    print('Error, mira les instruccion i torna a començar')\n",
    "else:\n",
    "    print(nom * numero)\n"
   ]
  },
  {
   "cell_type": "markdown",
   "id": "4ef2253c",
   "metadata": {},
   "source": [
    "- Exercici 4\n",
    "\n",
    "Crea un programa que donada una llista qualsevol, et digui si és simètrica o no. Si ho és, que et digui quants elements té."
   ]
  },
  {
   "cell_type": "code",
   "execution_count": 5,
   "id": "a8f05064",
   "metadata": {},
   "outputs": [
    {
     "name": "stdout",
     "output_type": "stream",
     "text": [
      "La meva llista es la seguent:  [1, 1, 1, 1]\n",
      "La parella que considerem es:  1 i  1\n",
      "... la posició 0 es IGUAL a la posició -1\n",
      "La parella que considerem es:  1 i  1\n",
      "... la posició 1 es IGUAL a la posició -2\n",
      "La parella que considerem es:  1 i  1\n",
      "... la posició 2 es IGUAL a la posició -3\n",
      "La parella que considerem es:  1 i  1\n",
      "... la posició 3 es IGUAL a la posició -4\n",
      "LA LLISTA SÍ ES SIMÈTRICA\n"
     ]
    }
   ],
   "source": [
    "from random import randrange\n",
    "\n",
    "# Faig una llista aleatòria\n",
    "my_list = [] # faig una llista buida\n",
    "item = 0 # poso el contador a 0\n",
    "while item < 4: # faré una llista de 4 items\n",
    "    nou_item = randrange(0,2) #cada item de la llista estarà ente 0 i 1\n",
    "    my_list.append(nou_item)\n",
    "    item += 1\n",
    "print('La meva llista es la seguent: ',my_list)\n",
    "\n",
    "\n",
    "#poso els contadors a les posicions inicials\n",
    "directe = 0\n",
    "reversa = -1\n",
    "\n",
    "resultat = 'LA LLISTA SÍ ES SIMÈTRICA' # El resultat per defecte serà que la llista es simètrica.\n",
    "\n",
    "for posicio in my_list:\n",
    "    print('La parella que considerem es: ',my_list[directe],'i ', my_list[reversa])\n",
    "    if my_list[directe] == my_list[reversa]:\n",
    "        print('... la posició', directe, 'es IGUAL a la posició', reversa)\n",
    "    else:\n",
    "        print('... la posició', directe, 'es DEIFERENT a la posició', reversa)\n",
    "        resultat ='LA LLISTA NO ES SIMÈTRICA' # si una parella no es simétrica canviará el resultat\n",
    "    directe += 1\n",
    "    reversa += -1\n",
    "print(resultat)\n",
    "item = 0"
   ]
  },
  {
   "cell_type": "markdown",
   "id": "f37efa2e",
   "metadata": {},
   "source": [
    "- Exercici 5\n",
    "\n",
    "Crea un programa que donada una llista, et digui quants números coincideixen amb la seva posició. Per exemple [3,4,2,0,2,3,6] el 2 i el 6 coincideixen."
   ]
  },
  {
   "cell_type": "code",
   "execution_count": 6,
   "id": "9fb1b74c",
   "metadata": {},
   "outputs": [
    {
     "name": "stdout",
     "output_type": "stream",
     "text": [
      "La meva llista es la seguent:  [2, 0, 1, 7, 1, 8, 3, 3, 8, 7]\n",
      "    Considerem el valor en la posicio:  0 que te el valor de  2\n",
      "... a la posició  0 tenim un valor que NO correspon a la seva posicio:  2\n",
      "    Considerem el valor en la posicio:  1 que te el valor de  0\n",
      "... a la posició  1 tenim un valor que NO correspon a la seva posicio:  0\n",
      "    Considerem el valor en la posicio:  2 que te el valor de  1\n",
      "... a la posició  2 tenim un valor que NO correspon a la seva posicio:  1\n",
      "    Considerem el valor en la posicio:  3 que te el valor de  7\n",
      "... a la posició  3 tenim un valor que NO correspon a la seva posicio:  7\n",
      "    Considerem el valor en la posicio:  4 que te el valor de  1\n",
      "... a la posició  4 tenim un valor que NO correspon a la seva posicio:  1\n",
      "    Considerem el valor en la posicio:  5 que te el valor de  8\n",
      "... a la posició  5 tenim un valor que NO correspon a la seva posicio:  8\n",
      "    Considerem el valor en la posicio:  6 que te el valor de  3\n",
      "... a la posició  6 tenim un valor que NO correspon a la seva posicio:  3\n",
      "    Considerem el valor en la posicio:  7 que te el valor de  3\n",
      "... a la posició  7 tenim un valor que NO correspon a la seva posicio:  3\n",
      "    Considerem el valor en la posicio:  8 que te el valor de  8\n",
      "MATCH!!! En la posició  8 tenim el mateix valor que la seva posicio:  8\n",
      "    Considerem el valor en la posicio:  9 que te el valor de  7\n",
      "... a la posició  9 tenim un valor que NO correspon a la seva posicio:  7\n"
     ]
    }
   ],
   "source": [
    "from random import randrange\n",
    "\n",
    "# Faig una llista aleatòria\n",
    "my_list = [] # faig una llista buida\n",
    "item = 0 # poso el contador a 0\n",
    "while item < 10: # faré una llista de 10 items\n",
    "    nou_item = randrange(0,11) #cada item de la llista estarà ente 0 i 10\n",
    "    my_list.append(nou_item)\n",
    "    item += 1\n",
    "print('La meva llista es la seguent: ',my_list)\n",
    "\n",
    "\n",
    "#poso el contadors de la posicio a 0\n",
    "posicio = 0\n",
    "\n",
    "#faig un loop per compara el valor de la llista y la seva posicio\n",
    "for parella in my_list:\n",
    "    print('    Considerem el valor en la posicio: ', posicio,'que te el valor de ', parella)\n",
    "    if posicio == parella:\n",
    "        print('MATCH!!! En la posició ', posicio, 'tenim el mateix valor que la seva posicio: ', parella)\n",
    "    else:\n",
    "        print('... a la posició ', posicio, 'tenim un valor que NO correspon a la seva posicio: ', parella)\n",
    "    posicio +=1\n",
    "posicio = 0"
   ]
  },
  {
   "cell_type": "code",
   "execution_count": null,
   "id": "fc9d3803",
   "metadata": {},
   "outputs": [],
   "source": []
  }
 ],
 "metadata": {
  "kernelspec": {
   "display_name": "Python 3 (ipykernel)",
   "language": "python",
   "name": "python3"
  },
  "language_info": {
   "codemirror_mode": {
    "name": "ipython",
    "version": 3
   },
   "file_extension": ".py",
   "mimetype": "text/x-python",
   "name": "python",
   "nbconvert_exporter": "python",
   "pygments_lexer": "ipython3",
   "version": "3.9.7"
  }
 },
 "nbformat": 4,
 "nbformat_minor": 5
}
